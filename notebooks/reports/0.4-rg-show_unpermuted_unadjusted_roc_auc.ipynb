{
 "cells": [
  {
   "cell_type": "code",
   "execution_count": 3,
   "metadata": {},
   "outputs": [
    {
     "name": "stdout",
     "output_type": "stream",
     "text": [
      "The autoreload extension is already loaded. To reload it, use:\n",
      "  %reload_ext autoreload\n"
     ]
    }
   ],
   "source": [
    "%load_ext autoreload\n",
    "%autoreload 2\n",
    "\n",
    "import os\n",
    "\n",
    "import numpy as np\n",
    "import pandas as pd\n",
    "\n",
    "from src.visualization.viz import load_test_auc_data\n",
    "import src.data.var_names as var_names\n",
    "from definitions import RESULTS_DIR"
   ]
  },
  {
   "cell_type": "code",
   "execution_count": 10,
   "metadata": {},
   "outputs": [],
   "source": [
    "methods = ['logistic_regression_ovr', 'xgboost_cce']\n",
    "\n",
    "unperm_unadj_aucs = {m: {} for m in methods}\n",
    "mean_unperm_unadj_aucs = {m: {} for m in methods}\n",
    "\n",
    "for file in os.listdir(RESULTS_DIR):\n",
    "    if file.endswith('unadjusted'):\n",
    "        for method in methods:\n",
    "            df = pd.read_csv(\n",
    "                RESULTS_DIR / file / 'unpermuted' / method / 'test'\n",
    "                / 'roc_auc.csv', index_col=0\n",
    "            )\n",
    "            for diagnosis in df.columns:\n",
    "                if diagnosis not in unperm_unadj_aucs[method].keys():\n",
    "                    unperm_unadj_aucs[method][diagnosis] = []\n",
    "                unperm_unadj_aucs[method][diagnosis].extend(\n",
    "                    list(df[diagnosis])\n",
    "                )\n",
    "\n",
    "for method in methods:\n",
    "    for diagnosis in unperm_unadj_aucs[method].keys():\n",
    "        mean_unperm_unadj_aucs[method][diagnosis] = np.mean(\n",
    "            unperm_unadj_aucs[method][diagnosis]\n",
    "        )"
   ]
  },
  {
   "cell_type": "code",
   "execution_count": 12,
   "metadata": {},
   "outputs": [
    {
     "data": {
      "text/plain": [
       "{'Major Depressive Disorder': 0.5555765753444537,\n",
       " 'Bipolar Disorder': 0.5624908701510811,\n",
       " 'Psychotic Symptoms': 0.5042382740211656,\n",
       " 'ADHD': 0.5466133082186171,\n",
       " 'Oppositional Defiant Disorder': 0.5352224076386938,\n",
       " 'Conduct Disorder': 0.49723538382517724,\n",
       " 'PTSD': 0.528088130966001,\n",
       " 'Obsessive Compulsive Disorder': 0.5207193522087927}"
      ]
     },
     "execution_count": 12,
     "metadata": {},
     "output_type": "execute_result"
    }
   ],
   "source": [
    "mean_unperm_unadj_aucs['xgboost_cce']"
   ]
  }
 ],
 "metadata": {
  "kernelspec": {
   "display_name": "Python 3",
   "language": "python",
   "name": "python3"
  },
  "language_info": {
   "codemirror_mode": {
    "name": "ipython",
    "version": 3
   },
   "file_extension": ".py",
   "mimetype": "text/x-python",
   "name": "python",
   "nbconvert_exporter": "python",
   "pygments_lexer": "ipython3",
   "version": "3.8.5"
  }
 },
 "nbformat": 4,
 "nbformat_minor": 4
}
