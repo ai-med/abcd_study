{
 "cells": [
  {
   "cell_type": "markdown",
   "metadata": {},
   "source": [
    "# Some data set explorations"
   ]
  },
  {
   "cell_type": "code",
   "execution_count": 1,
   "metadata": {
    "pycharm": {
     "is_executing": true
    }
   },
   "outputs": [],
   "source": [
    "import numpy as np\n",
    "import pandas as pd\n",
    "\n",
    "import seaborn as sns\n",
    "import matplotlib as mpl\n",
    "import matplotlib.ticker as mtick\n",
    "import matplotlib.pyplot as plt\n",
    "mpl.rcParams['svg.fonttype'] = 'none' # Takes care that texts show up when \n",
    "# importing pdf-plots into Inkcape\n",
    "\n",
    "import src.data.var_names as var_names\n",
    "from definitions import REPO_ROOT, PROCESSED_DATA_DIR, RAW_DATA_DIR, RESULTS_DIR"
   ]
  },
  {
   "cell_type": "code",
   "execution_count": 2,
   "metadata": {
    "pycharm": {
     "is_executing": true
    }
   },
   "outputs": [],
   "source": [
    "abcd_data = pd.read_csv(PROCESSED_DATA_DIR / 'abcd_data.csv')\n",
    "abcd_data = abcd_data.dropna()  # NaNs are dropped in the study in the RepeatedStratifiedKFoldDataloader"
   ]
  },
  {
   "cell_type": "code",
   "execution_count": 14,
   "metadata": {},
   "outputs": [
    {
     "data": {
      "text/plain": [
       "['abcd_site_site01',\n",
       " 'abcd_site_site02',\n",
       " 'abcd_site_site03',\n",
       " 'abcd_site_site04',\n",
       " 'abcd_site_site05',\n",
       " 'abcd_site_site06',\n",
       " 'abcd_site_site07',\n",
       " 'abcd_site_site08',\n",
       " 'abcd_site_site09',\n",
       " 'abcd_site_site10',\n",
       " 'abcd_site_site11',\n",
       " 'abcd_site_site12',\n",
       " 'abcd_site_site13',\n",
       " 'abcd_site_site14',\n",
       " 'abcd_site_site15',\n",
       " 'abcd_site_site16',\n",
       " 'abcd_site_site17',\n",
       " 'abcd_site_site18',\n",
       " 'abcd_site_site19',\n",
       " 'abcd_site_site20',\n",
       " 'abcd_site_site21',\n",
       " 'abcd_site_site22']"
      ]
     },
     "execution_count": 14,
     "metadata": {},
     "output_type": "execute_result"
    }
   ],
   "source": [
    "site_cols = [f'abcd_site_site{i+1:02d}' for i in range(22)]\n",
    "site_cols"
   ]
  },
  {
   "cell_type": "code",
   "execution_count": 16,
   "metadata": {},
   "outputs": [
    {
     "data": {
      "text/plain": [
       "abcd_site_site01    216\n",
       "abcd_site_site02    249\n",
       "abcd_site_site03    413\n",
       "abcd_site_site04    488\n",
       "abcd_site_site05    228\n",
       "abcd_site_site06    419\n",
       "abcd_site_site07    154\n",
       "abcd_site_site08    232\n",
       "abcd_site_site09    297\n",
       "abcd_site_site10    437\n",
       "abcd_site_site11    277\n",
       "abcd_site_site12    120\n",
       "abcd_site_site13    412\n",
       "abcd_site_site14    327\n",
       "abcd_site_site15    251\n",
       "abcd_site_site16    675\n",
       "abcd_site_site17    466\n",
       "abcd_site_site18    267\n",
       "abcd_site_site19    261\n",
       "abcd_site_site20    322\n",
       "abcd_site_site21    374\n",
       "abcd_site_site22     31\n",
       "dtype: int64"
      ]
     },
     "execution_count": 16,
     "metadata": {},
     "output_type": "execute_result"
    }
   ],
   "source": [
    "abcd_data[site_cols].sum()"
   ]
  },
  {
   "cell_type": "code",
   "execution_count": 17,
   "metadata": {},
   "outputs": [
    {
     "data": {
      "text/plain": [
       "22"
      ]
     },
     "execution_count": 17,
     "metadata": {},
     "output_type": "execute_result"
    }
   ],
   "source": [
    "len(abcd_data[site_cols].sum())"
   ]
  }
 ],
 "metadata": {
  "kernelspec": {
   "display_name": "Python 3",
   "language": "python",
   "name": "python3"
  },
  "language_info": {
   "codemirror_mode": {
    "name": "ipython",
    "version": 3
   },
   "file_extension": ".py",
   "mimetype": "text/x-python",
   "name": "python",
   "nbconvert_exporter": "python",
   "pygments_lexer": "ipython3",
   "version": "3.8.5"
  }
 },
 "nbformat": 4,
 "nbformat_minor": 1
}
