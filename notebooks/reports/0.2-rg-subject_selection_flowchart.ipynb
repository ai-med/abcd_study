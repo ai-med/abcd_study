{
 "cells": [
  {
   "cell_type": "markdown",
   "metadata": {
    "collapsed": true
   },
   "source": [
    "# Calculate numbers for subject selection flow chart"
   ]
  },
  {
   "cell_type": "code",
   "execution_count": 2,
   "metadata": {},
   "outputs": [],
   "source": [
    "import numpy as np\n",
    "import pandas as pd\n",
    "\n",
    "import src.data.preprocess_data as prep\n",
    "import src.data.var_names as var_names\n",
    "from definitions import REPO_ROOT, PROCESSED_DATA_DIR, RAW_DATA_DIR"
   ]
  },
  {
   "cell_type": "code",
   "execution_count": 3,
   "metadata": {},
   "outputs": [],
   "source": [
    "# Seed for one child selection was 77 in our study\n",
    "seed = 77"
   ]
  },
  {
   "cell_type": "code",
   "execution_count": 5,
   "metadata": {},
   "outputs": [
    {
     "name": "stdout",
     "output_type": "stream",
     "text": [
      "Number of subjects with...\n",
      "   ...complete SRI24 data: 8670\n",
      "   ...complete SRI24 and Freesurfer data: 8495\n",
      "   ...complete SRI24, Freesurfer, and sociodemographic data: 8433\n",
      "   ...complete SRI24, Freesurfer, sociodemographic, and KSADS data: 8281\n",
      "   ...with only one subject per family: 6916\n"
     ]
    }
   ],
   "source": [
    "binary_diagnoses_df = prep.create_binary_diagnoses_df(RAW_DATA_DIR)\n",
    "sri24_df = prep.load_sri24_df(RAW_DATA_DIR)\n",
    "freesurfer_df = prep.load_freesurfer_df(RAW_DATA_DIR)\n",
    "sociodem_df = prep.load_sociodem_df(RAW_DATA_DIR)\n",
    "\n",
    "print(f\"Number of subjects with...\")\n",
    "print(f\"   ...complete SRI24 data: {len(sri24_df.dropna())}\")\n",
    "\n",
    "abcd_data_df = sri24_df.merge(\n",
    "    right=freesurfer_df, how='inner', left_index=True, right_index=True\n",
    ")\n",
    "print(f\"   ...complete SRI24 and Freesurfer data: {len(abcd_data_df.dropna())}\")\n",
    "\n",
    "abcd_data_df = abcd_data_df.merge(\n",
    "    right=sociodem_df, how='inner', left_index=True, right_index=True\n",
    ")\n",
    "print(f\"   ...complete SRI24, Freesurfer, and sociodemographic data: {len(abcd_data_df.dropna())}\")\n",
    "\n",
    "abcd_data_df = abcd_data_df.merge(\n",
    "    right=binary_diagnoses_df, how='inner', left_index=True, right_index=True\n",
    ")\n",
    "print(f\"   ...complete SRI24, Freesurfer, sociodemographic, and KSADS data: {len(abcd_data_df.dropna())}\")\n",
    "\n",
    "abcd_data_df = prep.select_one_child_per_family(\n",
    "    abcd_data_path=RAW_DATA_DIR,\n",
    "    abcd_df=abcd_data_df,\n",
    "    random_state=seed\n",
    ")\n",
    "print(f\"   ...with only one subject per family: {len(abcd_data_df.dropna())}\")"
   ]
  }
 ],
 "metadata": {
  "kernelspec": {
   "display_name": "Python 3",
   "language": "python",
   "name": "python3"
  },
  "language_info": {
   "codemirror_mode": {
    "name": "ipython",
    "version": 3
   },
   "file_extension": ".py",
   "mimetype": "text/x-python",
   "name": "python",
   "nbconvert_exporter": "python",
   "pygments_lexer": "ipython3",
   "version": "3.8.5"
  }
 },
 "nbformat": 4,
 "nbformat_minor": 1
}