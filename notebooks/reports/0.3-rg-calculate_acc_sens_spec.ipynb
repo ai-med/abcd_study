{
 "cells": [
  {
   "cell_type": "markdown",
   "metadata": {},
   "source": [
    "# Calculate additional performance metrics: Accuracy, balanced accuracy, sensitivity, specificity"
   ]
  },
  {
   "cell_type": "code",
   "execution_count": 1,
   "metadata": {
    "pycharm": {
     "is_executing": true
    }
   },
   "outputs": [],
   "source": [
    "import numpy as np\n",
    "import pandas as pd\n",
    "import seaborn as sns\n",
    "\n",
    "from sklearn.metrics import roc_curve, balanced_accuracy_score, accuracy_score\n",
    "import sklearn\n",
    "\n",
    "import src.data.var_names as var_names\n",
    "from definitions import REPO_ROOT, PROCESSED_DATA_DIR, RAW_DATA_DIR, RESULTS_DIR"
   ]
  },
  {
   "cell_type": "code",
   "execution_count": 2,
   "metadata": {
    "pycharm": {
     "is_executing": true
    }
   },
   "outputs": [],
   "source": [
    "abcd_data = pd.read_csv(PROCESSED_DATA_DIR / 'abcd_data.csv')\n",
    "abcd_data.index = abcd_data['src_subject_id']"
   ]
  },
  {
   "cell_type": "code",
   "execution_count": 3,
   "metadata": {},
   "outputs": [],
   "source": [
    "diagnoses_to_check = ['Bipolar Disorder', 'ADHD', 'Oppositional Defiant Disorder']"
   ]
  },
  {
   "cell_type": "code",
   "execution_count": 4,
   "metadata": {},
   "outputs": [],
   "source": [
    "bacc_sens_spec = {\n",
    "    d: {'accuracy': [], 'balanced_acc': [], 'sensitivity': [], 'specificity': []}\n",
    "    for d in diagnoses_to_check\n",
    "}\n",
    "\n",
    "for i in range(1, 16):\n",
    "    folder = f\"run_unpermuted_seed{1000+i}n2k5\"\n",
    "    filepath = RESULTS_DIR / folder / 'unpermuted' / 'xgboost_cce' / 'test'\n",
    "    for fold_i in range(10):\n",
    "        predictions = pd.read_csv(filepath / f\"fold_{fold_i}.csv\")\n",
    "        predictions.index = predictions['src_subject_id']\n",
    "        for diagnosis in diagnoses_to_check:\n",
    "            y_true, y_pred = abcd_data[diagnosis].align(other=predictions[diagnosis], join='inner')\n",
    "            fpr, tpr, threshold = roc_curve(\n",
    "                y_true=y_true,\n",
    "                y_score=y_pred\n",
    "            )\n",
    "            # Compute optimal threshold value, corresponding to maximum\n",
    "            # Youden index\n",
    "            optimal_idx = np.argmax(tpr - fpr)\n",
    "            optimal_threshold = threshold[optimal_idx]\n",
    "            # Compute sensitivity and specificity\n",
    "            sensitivity = tpr[optimal_idx]\n",
    "            specificity = 1 - fpr[optimal_idx]\n",
    "            # Apply threshold to predictions and calculate balanced accuracy\n",
    "            binary_predictions = predictions[diagnosis] >= optimal_threshold\n",
    "            balanced_accuracy = balanced_accuracy_score(\n",
    "                y_true=y_true,\n",
    "                y_pred=binary_predictions\n",
    "            )\n",
    "            accuracy = accuracy_score(\n",
    "                y_true=y_true,\n",
    "                y_pred=binary_predictions\n",
    "            )\n",
    "            # Store values\n",
    "            bacc_sens_spec[diagnosis]['accuracy'].append(accuracy)\n",
    "            bacc_sens_spec[diagnosis]['balanced_acc'].append(balanced_accuracy)\n",
    "            bacc_sens_spec[diagnosis]['sensitivity'].append(sensitivity)\n",
    "            bacc_sens_spec[diagnosis]['specificity'].append(specificity)"
   ]
  },
  {
   "cell_type": "code",
   "execution_count": 5,
   "metadata": {},
   "outputs": [
    {
     "name": "stdout",
     "output_type": "stream",
     "text": [
      "Bipolar Disorder\n",
      "\tAccuracy: \t\t0.5978 (0.2473 - 0.8727)\n",
      "\tBalanced accuracy: \t0.5613 (0.5234 - 0.6111)\n",
      "\tSensitivity: \t\t0.5190 (0.1386 - 0.9208)\n",
      "\tSpecificity: \t\t0.6037 (0.1942 - 0.9306)\n",
      "ADHD\n",
      "\tAccuracy: \t\t0.5557 (0.3297 - 0.7650)\n",
      "\tBalanced accuracy: \t0.5564 (0.5247 - 0.5906)\n",
      "\tSensitivity: \t\t0.5577 (0.1615 - 0.8969)\n",
      "\tSpecificity: \t\t0.5551 (0.1971 - 0.9047)\n",
      "Oppositional Defiant Disorder\n",
      "\tAccuracy: \t\t0.5498 (0.2169 - 0.8395)\n",
      "\tBalanced accuracy: \t0.5420 (0.5132 - 0.5795)\n",
      "\tSensitivity: \t\t0.5308 (0.0485 - 0.9655)\n",
      "\tSpecificity: \t\t0.5532 (0.0884 - 0.9779)\n"
     ]
    }
   ],
   "source": [
    "for diagnosis in diagnoses_to_check:\n",
    "    print(diagnosis)\n",
    "    print(f\"\\tAccuracy: \"\n",
    "          f\"\\t\\t{np.mean(bacc_sens_spec[diagnosis]['accuracy']):.4f} \"\n",
    "          f\"({min(bacc_sens_spec[diagnosis]['accuracy']):.4f} - \"\n",
    "          f\"{max(bacc_sens_spec[diagnosis]['accuracy']):.4f})\")\n",
    "    print(f\"\\tBalanced accuracy: \"\n",
    "          f\"\\t{np.mean(bacc_sens_spec[diagnosis]['balanced_acc']):.4f} \"\n",
    "          f\"({min(bacc_sens_spec[diagnosis]['balanced_acc']):.4f} - \"\n",
    "          f\"{max(bacc_sens_spec[diagnosis]['balanced_acc']):.4f})\")\n",
    "    print(f\"\\tSensitivity: \"\n",
    "          f\"\\t\\t{np.mean(bacc_sens_spec[diagnosis]['sensitivity']):.4f} \"\n",
    "          f\"({min(bacc_sens_spec[diagnosis]['sensitivity']):.4f} - \"\n",
    "          f\"{max(bacc_sens_spec[diagnosis]['sensitivity']):.4f})\")\n",
    "    print(f\"\\tSpecificity: \"\n",
    "          f\"\\t\\t{np.mean(bacc_sens_spec[diagnosis]['specificity']):.4f} \"\n",
    "          f\"({min(bacc_sens_spec[diagnosis]['specificity']):.4f} - \"\n",
    "          f\"{max(bacc_sens_spec[diagnosis]['specificity']):.4f})\")"
   ]
  },
  {
   "cell_type": "code",
   "execution_count": null,
   "metadata": {},
   "outputs": [],
   "source": []
  }
 ],
 "metadata": {
  "kernelspec": {
   "display_name": "Python 3",
   "language": "python",
   "name": "python3"
  },
  "language_info": {
   "codemirror_mode": {
    "name": "ipython",
    "version": 3
   },
   "file_extension": ".py",
   "mimetype": "text/x-python",
   "name": "python",
   "nbconvert_exporter": "python",
   "pygments_lexer": "ipython3",
   "version": "3.8.5"
  }
 },
 "nbformat": 4,
 "nbformat_minor": 1
}