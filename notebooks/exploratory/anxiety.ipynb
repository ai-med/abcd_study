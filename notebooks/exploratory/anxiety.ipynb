{
 "cells": [
  {
   "attachments": {},
   "cell_type": "markdown",
   "metadata": {},
   "source": [
    "Compare *Generalized Anxiety Disorder* from the perspective of the child and the parent."
   ]
  },
  {
   "cell_type": "code",
   "execution_count": 1,
   "metadata": {},
   "outputs": [],
   "source": [
    "import pandas as pd\n",
    "import numpy as np\n",
    "import matplotlib.pyplot as plt\n",
    "from IPython.display import display, HTML\n",
    "\n",
    "import src.data.var_names as abcd_vars"
   ]
  },
  {
   "cell_type": "code",
   "execution_count": 2,
   "metadata": {},
   "outputs": [],
   "source": [
    "df_parent = pd.read_csv(\n",
    "    \"data/raw/abcd_ksad01.txt\", header=1, sep='\\t', low_memory=False, index_col=4\n",
    ").query(\n",
    "    \"`The event name for which the data was collected` == 'baseline_year_1_arm_1'\",\n",
    ")\n",
    "df_youth = pd.read_csv(\n",
    "    \"data/raw/abcd_ksad501.txt\", header=1, sep='\\t', low_memory=False, index_col=4\n",
    ").query(\n",
    "    \"`The event name for which the data was collected` == 'baseline_year_1_arm_1'\",\n",
    ")"
   ]
  },
  {
   "cell_type": "code",
   "execution_count": 3,
   "metadata": {},
   "outputs": [
    {
     "data": {
      "text/plain": [
       "Index(['Diagnosis - Generalized Anxiety Disorder Present (F41.1)', 'Diagnosis - Generalized Anxiety Disorder Past (F41.1)'], dtype='object')"
      ]
     },
     "execution_count": 3,
     "metadata": {},
     "output_type": "execute_result"
    }
   ],
   "source": [
    "gad_col_idx_parent = [i for i, x in enumerate(df_parent.columns) if \"diagnosis - generalized anxiety\" in x.lower()]\n",
    "gad_col_idx_youth = [i for i, x in enumerate(df_youth.columns) if \"diagnosis - generalized anxiety\" in x.lower()]\n",
    "\n",
    "df_youth.columns[gad_col_idx_youth]"
   ]
  },
  {
   "cell_type": "code",
   "execution_count": 4,
   "metadata": {},
   "outputs": [],
   "source": [
    "data = pd.read_csv(\n",
    "    \"data/processed_one_child_per_family/abcd_data.csv\", index_col=0\n",
    ").dropna(\n",
    "    subset=abcd_vars.all_brain_features.features + abcd_vars.sociodem.features + abcd_vars.diagnoses.features\n",
    ")"
   ]
  },
  {
   "cell_type": "code",
   "execution_count": 5,
   "metadata": {},
   "outputs": [
    {
     "data": {
      "text/plain": [
       "(6916, 6916, 6916)"
      ]
     },
     "execution_count": 5,
     "metadata": {},
     "output_type": "execute_result"
    }
   ],
   "source": [
    "idx_parent = data.index.intersection(df_parent.index)\n",
    "idx_youth = data.index.intersection(df_youth.index)\n",
    "\n",
    "data.shape[0], len(idx_parent), len(idx_youth)"
   ]
  },
  {
   "cell_type": "code",
   "execution_count": 6,
   "metadata": {},
   "outputs": [],
   "source": [
    "gad_parent = df_parent.loc[idx_parent, :].iloc[:, gad_col_idx_parent]\n",
    "gad_youth = df_youth.loc[idx_youth, :].iloc[:, gad_col_idx_youth]"
   ]
  },
  {
   "cell_type": "code",
   "execution_count": 7,
   "metadata": {},
   "outputs": [],
   "source": [
    "def combine(x):\n",
    "    x = x.dropna()\n",
    "    if len(x) == 0:\n",
    "        return np.nan\n",
    "    return (x == 1).any().astype(float)\n",
    "\n",
    "combined = pd.concat((gad_parent, gad_youth), axis=1).agg(combine, axis=1)"
   ]
  },
  {
   "cell_type": "code",
   "execution_count": 12,
   "metadata": {},
   "outputs": [
    {
     "data": {
      "text/html": [
       "<div>\n",
       "<style scoped>\n",
       "    .dataframe tbody tr th:only-of-type {\n",
       "        vertical-align: middle;\n",
       "    }\n",
       "\n",
       "    .dataframe tbody tr th {\n",
       "        vertical-align: top;\n",
       "    }\n",
       "\n",
       "    .dataframe thead th {\n",
       "        text-align: right;\n",
       "    }\n",
       "</style>\n",
       "<table border=\"1\" class=\"dataframe\">\n",
       "  <thead>\n",
       "    <tr style=\"text-align: right;\">\n",
       "      <th>Present Youth</th>\n",
       "      <th>0.0</th>\n",
       "      <th>1.0</th>\n",
       "    </tr>\n",
       "    <tr>\n",
       "      <th>Present Parent</th>\n",
       "      <th></th>\n",
       "      <th></th>\n",
       "    </tr>\n",
       "  </thead>\n",
       "  <tbody>\n",
       "    <tr>\n",
       "      <th>0.0</th>\n",
       "      <td>6813</td>\n",
       "      <td>17</td>\n",
       "    </tr>\n",
       "    <tr>\n",
       "      <th>1.0</th>\n",
       "      <td>84</td>\n",
       "      <td>2</td>\n",
       "    </tr>\n",
       "  </tbody>\n",
       "</table>\n",
       "</div>"
      ],
      "text/plain": [
       "Present Youth    0.0  1.0\n",
       "Present Parent           \n",
       "0.0             6813   17\n",
       "1.0               84    2"
      ]
     },
     "metadata": {},
     "output_type": "display_data"
    },
    {
     "data": {
      "text/html": [
       "<div>\n",
       "<style scoped>\n",
       "    .dataframe tbody tr th:only-of-type {\n",
       "        vertical-align: middle;\n",
       "    }\n",
       "\n",
       "    .dataframe tbody tr th {\n",
       "        vertical-align: top;\n",
       "    }\n",
       "\n",
       "    .dataframe thead th {\n",
       "        text-align: right;\n",
       "    }\n",
       "</style>\n",
       "<table border=\"1\" class=\"dataframe\">\n",
       "  <thead>\n",
       "    <tr style=\"text-align: right;\">\n",
       "      <th>Past Youth</th>\n",
       "      <th>0.0</th>\n",
       "      <th>1.0</th>\n",
       "    </tr>\n",
       "    <tr>\n",
       "      <th>Past Parent</th>\n",
       "      <th></th>\n",
       "      <th></th>\n",
       "    </tr>\n",
       "  </thead>\n",
       "  <tbody>\n",
       "    <tr>\n",
       "      <th>0.0</th>\n",
       "      <td>6601</td>\n",
       "      <td>26</td>\n",
       "    </tr>\n",
       "    <tr>\n",
       "      <th>1.0</th>\n",
       "      <td>286</td>\n",
       "      <td>3</td>\n",
       "    </tr>\n",
       "  </tbody>\n",
       "</table>\n",
       "</div>"
      ],
      "text/plain": [
       "Past Youth    0.0  1.0\n",
       "Past Parent           \n",
       "0.0          6601   26\n",
       "1.0           286    3"
      ]
     },
     "metadata": {},
     "output_type": "display_data"
    },
    {
     "data": {
      "text/html": [
       "<strong>Combined (OR-rule)</strong>"
      ],
      "text/plain": [
       "<IPython.core.display.HTML object>"
      ]
     },
     "metadata": {},
     "output_type": "display_data"
    },
    {
     "data": {
      "text/plain": [
       "0.0    6548\n",
       "1.0     368\n",
       "dtype: int64"
      ]
     },
     "metadata": {},
     "output_type": "display_data"
    }
   ],
   "source": [
    "for col in (\"Present\", \"Past\"):\n",
    "    a = gad_parent.loc[:, gad_parent.columns.str.contains(col)].iloc[:, 0].rename(f\"{col} Parent\")\n",
    "    b = gad_youth.loc[:, gad_youth.columns.str.contains(col)].iloc[:, 0].rename(f\"{col} Youth\")\n",
    "    tab = pd.crosstab(a, b)\n",
    "    display(tab)\n",
    "\n",
    "display(HTML(\"<strong>Combined (OR-rule)</strong>\"), combined.value_counts())"
   ]
  },
  {
   "cell_type": "code",
   "execution_count": null,
   "metadata": {},
   "outputs": [],
   "source": []
  }
 ],
 "metadata": {
  "kernelspec": {
   "display_name": "Python 3.8.5 ('abcd')",
   "language": "python",
   "name": "python3"
  },
  "language_info": {
   "codemirror_mode": {
    "name": "ipython",
    "version": 3
   },
   "file_extension": ".py",
   "mimetype": "text/x-python",
   "name": "python",
   "nbconvert_exporter": "python",
   "pygments_lexer": "ipython3",
   "version": "3.8.5"
  },
  "orig_nbformat": 4,
  "vscode": {
   "interpreter": {
    "hash": "8d3db94e09c96733b97b12ef5262685d840abbb175a64cd23b36265301adcb86"
   }
  }
 },
 "nbformat": 4,
 "nbformat_minor": 2
}
