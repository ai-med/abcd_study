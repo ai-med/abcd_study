{
 "cells": [
  {
   "cell_type": "code",
   "execution_count": 5,
   "metadata": {},
   "outputs": [],
   "source": [
    "import sys\n",
    "from pathlib import Path\n",
    "\n",
    "main_path = Path(r'C:\\Users\\Richard\\Desktop\\ABCD_Study\\Publication\\abcd_paper')\n",
    "sys.path.append(str(main_path))"
   ]
  },
  {
   "cell_type": "code",
   "execution_count": 6,
   "metadata": {},
   "outputs": [
    {
     "name": "stdout",
     "output_type": "stream",
     "text": [
      "The autoreload extension is already loaded. To reload it, use:\n",
      "  %reload_ext autoreload\n"
     ]
    }
   ],
   "source": [
    "# OPTIONAL: Load the \"autoreload\" extension so that code can change\n",
    "%load_ext autoreload\n",
    "\n",
    "# OPTIONAL: always reload modules so that as you change code in src, it gets loaded\n",
    "%autoreload 2\n",
    "\n",
    "import src.data.preprocess_data as prep\n",
    "from src.data.data_loader import RepeatedStratifiedKFoldDataloader\n",
    "import src.data.var_names as abcd_vars"
   ]
  },
  {
   "cell_type": "code",
   "execution_count": 7,
   "metadata": {},
   "outputs": [
    {
     "data": {
      "text/html": [
       "<div>\n",
       "<style scoped>\n",
       "    .dataframe tbody tr th:only-of-type {\n",
       "        vertical-align: middle;\n",
       "    }\n",
       "\n",
       "    .dataframe tbody tr th {\n",
       "        vertical-align: top;\n",
       "    }\n",
       "\n",
       "    .dataframe thead th {\n",
       "        text-align: right;\n",
       "    }\n",
       "</style>\n",
       "<table border=\"1\" class=\"dataframe\">\n",
       "  <thead>\n",
       "    <tr style=\"text-align: right;\">\n",
       "      <th></th>\n",
       "      <th>age</th>\n",
       "      <th>female</th>\n",
       "      <th>married</th>\n",
       "      <th>race_ethnicity_Asian</th>\n",
       "      <th>race_ethnicity_Black</th>\n",
       "      <th>race_ethnicity_Hispanic</th>\n",
       "      <th>race_ethnicity_Other</th>\n",
       "      <th>race_ethnicity_White</th>\n",
       "      <th>high.educ_&lt; HS Diploma</th>\n",
       "      <th>high.educ_Bachelor</th>\n",
       "      <th>...</th>\n",
       "      <th>Major Depressive Disorder</th>\n",
       "      <th>Bipolar Disorder</th>\n",
       "      <th>Psychotic Symptoms</th>\n",
       "      <th>ADHD</th>\n",
       "      <th>Oppositional Defiant Disorder</th>\n",
       "      <th>Conduct Disorder</th>\n",
       "      <th>PTSD</th>\n",
       "      <th>Obsessive Compulsive Disorder</th>\n",
       "      <th>Sleep Problems</th>\n",
       "      <th>Suicide Tendency</th>\n",
       "    </tr>\n",
       "    <tr>\n",
       "      <th>src_subject_id</th>\n",
       "      <th></th>\n",
       "      <th></th>\n",
       "      <th></th>\n",
       "      <th></th>\n",
       "      <th></th>\n",
       "      <th></th>\n",
       "      <th></th>\n",
       "      <th></th>\n",
       "      <th></th>\n",
       "      <th></th>\n",
       "      <th></th>\n",
       "      <th></th>\n",
       "      <th></th>\n",
       "      <th></th>\n",
       "      <th></th>\n",
       "      <th></th>\n",
       "      <th></th>\n",
       "      <th></th>\n",
       "      <th></th>\n",
       "      <th></th>\n",
       "      <th></th>\n",
       "    </tr>\n",
       "  </thead>\n",
       "  <tbody>\n",
       "    <tr>\n",
       "      <th>NDAR_INV007W6H7B</th>\n",
       "      <td>126</td>\n",
       "      <td>0</td>\n",
       "      <td>1</td>\n",
       "      <td>0</td>\n",
       "      <td>0</td>\n",
       "      <td>0</td>\n",
       "      <td>0</td>\n",
       "      <td>1</td>\n",
       "      <td>0</td>\n",
       "      <td>0</td>\n",
       "      <td>...</td>\n",
       "      <td>0.0</td>\n",
       "      <td>0.0</td>\n",
       "      <td>0.0</td>\n",
       "      <td>0.0</td>\n",
       "      <td>1.0</td>\n",
       "      <td>0.0</td>\n",
       "      <td>0.0</td>\n",
       "      <td>0.0</td>\n",
       "      <td>0.0</td>\n",
       "      <td>1.0</td>\n",
       "    </tr>\n",
       "    <tr>\n",
       "      <th>NDAR_INV00CY2MDM</th>\n",
       "      <td>130</td>\n",
       "      <td>0</td>\n",
       "      <td>0</td>\n",
       "      <td>0</td>\n",
       "      <td>0</td>\n",
       "      <td>0</td>\n",
       "      <td>0</td>\n",
       "      <td>1</td>\n",
       "      <td>0</td>\n",
       "      <td>0</td>\n",
       "      <td>...</td>\n",
       "      <td>0.0</td>\n",
       "      <td>0.0</td>\n",
       "      <td>0.0</td>\n",
       "      <td>0.0</td>\n",
       "      <td>1.0</td>\n",
       "      <td>0.0</td>\n",
       "      <td>0.0</td>\n",
       "      <td>0.0</td>\n",
       "      <td>0.0</td>\n",
       "      <td>1.0</td>\n",
       "    </tr>\n",
       "    <tr>\n",
       "      <th>NDAR_INV00HEV6HB</th>\n",
       "      <td>124</td>\n",
       "      <td>0</td>\n",
       "      <td>1</td>\n",
       "      <td>0</td>\n",
       "      <td>1</td>\n",
       "      <td>0</td>\n",
       "      <td>0</td>\n",
       "      <td>0</td>\n",
       "      <td>0</td>\n",
       "      <td>0</td>\n",
       "      <td>...</td>\n",
       "      <td>0.0</td>\n",
       "      <td>0.0</td>\n",
       "      <td>0.0</td>\n",
       "      <td>0.0</td>\n",
       "      <td>0.0</td>\n",
       "      <td>0.0</td>\n",
       "      <td>0.0</td>\n",
       "      <td>0.0</td>\n",
       "      <td>0.0</td>\n",
       "      <td>1.0</td>\n",
       "    </tr>\n",
       "    <tr>\n",
       "      <th>NDAR_INV00LJVZK2</th>\n",
       "      <td>121</td>\n",
       "      <td>0</td>\n",
       "      <td>0</td>\n",
       "      <td>0</td>\n",
       "      <td>0</td>\n",
       "      <td>0</td>\n",
       "      <td>1</td>\n",
       "      <td>0</td>\n",
       "      <td>1</td>\n",
       "      <td>0</td>\n",
       "      <td>...</td>\n",
       "      <td>0.0</td>\n",
       "      <td>1.0</td>\n",
       "      <td>0.0</td>\n",
       "      <td>1.0</td>\n",
       "      <td>1.0</td>\n",
       "      <td>1.0</td>\n",
       "      <td>0.0</td>\n",
       "      <td>0.0</td>\n",
       "      <td>0.0</td>\n",
       "      <td>0.0</td>\n",
       "    </tr>\n",
       "    <tr>\n",
       "      <th>NDAR_INV00NPMHND</th>\n",
       "      <td>118</td>\n",
       "      <td>1</td>\n",
       "      <td>1</td>\n",
       "      <td>0</td>\n",
       "      <td>0</td>\n",
       "      <td>0</td>\n",
       "      <td>0</td>\n",
       "      <td>1</td>\n",
       "      <td>0</td>\n",
       "      <td>1</td>\n",
       "      <td>...</td>\n",
       "      <td>0.0</td>\n",
       "      <td>0.0</td>\n",
       "      <td>0.0</td>\n",
       "      <td>0.0</td>\n",
       "      <td>0.0</td>\n",
       "      <td>0.0</td>\n",
       "      <td>0.0</td>\n",
       "      <td>0.0</td>\n",
       "      <td>1.0</td>\n",
       "      <td>1.0</td>\n",
       "    </tr>\n",
       "  </tbody>\n",
       "</table>\n",
       "<p>5 rows × 304 columns</p>\n",
       "</div>"
      ],
      "text/plain": [
       "                  age  female  married  race_ethnicity_Asian  \\\n",
       "src_subject_id                                                 \n",
       "NDAR_INV007W6H7B  126       0        1                     0   \n",
       "NDAR_INV00CY2MDM  130       0        0                     0   \n",
       "NDAR_INV00HEV6HB  124       0        1                     0   \n",
       "NDAR_INV00LJVZK2  121       0        0                     0   \n",
       "NDAR_INV00NPMHND  118       1        1                     0   \n",
       "\n",
       "                  race_ethnicity_Black  race_ethnicity_Hispanic  \\\n",
       "src_subject_id                                                    \n",
       "NDAR_INV007W6H7B                     0                        0   \n",
       "NDAR_INV00CY2MDM                     0                        0   \n",
       "NDAR_INV00HEV6HB                     1                        0   \n",
       "NDAR_INV00LJVZK2                     0                        0   \n",
       "NDAR_INV00NPMHND                     0                        0   \n",
       "\n",
       "                  race_ethnicity_Other  race_ethnicity_White  \\\n",
       "src_subject_id                                                 \n",
       "NDAR_INV007W6H7B                     0                     1   \n",
       "NDAR_INV00CY2MDM                     0                     1   \n",
       "NDAR_INV00HEV6HB                     0                     0   \n",
       "NDAR_INV00LJVZK2                     1                     0   \n",
       "NDAR_INV00NPMHND                     0                     1   \n",
       "\n",
       "                  high.educ_< HS Diploma  high.educ_Bachelor  ...  \\\n",
       "src_subject_id                                                ...   \n",
       "NDAR_INV007W6H7B                       0                   0  ...   \n",
       "NDAR_INV00CY2MDM                       0                   0  ...   \n",
       "NDAR_INV00HEV6HB                       0                   0  ...   \n",
       "NDAR_INV00LJVZK2                       1                   0  ...   \n",
       "NDAR_INV00NPMHND                       0                   1  ...   \n",
       "\n",
       "                  Major Depressive Disorder  Bipolar Disorder  \\\n",
       "src_subject_id                                                  \n",
       "NDAR_INV007W6H7B                        0.0               0.0   \n",
       "NDAR_INV00CY2MDM                        0.0               0.0   \n",
       "NDAR_INV00HEV6HB                        0.0               0.0   \n",
       "NDAR_INV00LJVZK2                        0.0               1.0   \n",
       "NDAR_INV00NPMHND                        0.0               0.0   \n",
       "\n",
       "                  Psychotic Symptoms  ADHD  Oppositional Defiant Disorder  \\\n",
       "src_subject_id                                                              \n",
       "NDAR_INV007W6H7B                 0.0   0.0                            1.0   \n",
       "NDAR_INV00CY2MDM                 0.0   0.0                            1.0   \n",
       "NDAR_INV00HEV6HB                 0.0   0.0                            0.0   \n",
       "NDAR_INV00LJVZK2                 0.0   1.0                            1.0   \n",
       "NDAR_INV00NPMHND                 0.0   0.0                            0.0   \n",
       "\n",
       "                  Conduct Disorder  PTSD  Obsessive Compulsive Disorder  \\\n",
       "src_subject_id                                                            \n",
       "NDAR_INV007W6H7B               0.0   0.0                            0.0   \n",
       "NDAR_INV00CY2MDM               0.0   0.0                            0.0   \n",
       "NDAR_INV00HEV6HB               0.0   0.0                            0.0   \n",
       "NDAR_INV00LJVZK2               1.0   0.0                            0.0   \n",
       "NDAR_INV00NPMHND               0.0   0.0                            0.0   \n",
       "\n",
       "                  Sleep Problems  Suicide Tendency  \n",
       "src_subject_id                                      \n",
       "NDAR_INV007W6H7B             0.0               1.0  \n",
       "NDAR_INV00CY2MDM             0.0               1.0  \n",
       "NDAR_INV00HEV6HB             0.0               1.0  \n",
       "NDAR_INV00LJVZK2             0.0               0.0  \n",
       "NDAR_INV00NPMHND             1.0               1.0  \n",
       "\n",
       "[5 rows x 304 columns]"
      ]
     },
     "execution_count": 7,
     "metadata": {},
     "output_type": "execute_result"
    }
   ],
   "source": [
    "total_df = prep.load_complete_df(main_path / 'data' / 'raw')\n",
    "total_df.head()"
   ]
  },
  {
   "cell_type": "code",
   "execution_count": 8,
   "metadata": {},
   "outputs": [
    {
     "data": {
      "text/plain": [
       "True"
      ]
     },
     "execution_count": 8,
     "metadata": {},
     "output_type": "execute_result"
    }
   ],
   "source": [
    "set(['age', 'female']).issubset(total_df.columns)"
   ]
  },
  {
   "cell_type": "code",
   "execution_count": 9,
   "metadata": {},
   "outputs": [],
   "source": [
    "loader = RepeatedStratifiedKFoldDataloader(\n",
    "    total_df,\n",
    "    abcd_vars.all_brain_features.features,\n",
    "    abcd_vars.diagnoses.features,\n",
    "    abcd_vars.sociodem.features,\n",
    "    1,\n",
    "    5,\n",
    "    0.2\n",
    ")"
   ]
  },
  {
   "cell_type": "code",
   "execution_count": 10,
   "metadata": {},
   "outputs": [
    {
     "name": "stderr",
     "output_type": "stream",
     "text": [
      "C:\\ProgramData\\Anaconda3\\envs\\abcd\\lib\\site-packages\\sklearn\\model_selection\\_split.py:670: UserWarning: The least populated class in y has only 1 members, which is less than n_splits=5.\n",
      "  warnings.warn((\"The least populated class in y has only %d\"\n"
     ]
    }
   ],
   "source": [
    "train, valid, test, feats = next(iter(loader))"
   ]
  },
  {
   "cell_type": "code",
   "execution_count": 12,
   "metadata": {},
   "outputs": [
    {
     "data": {
      "text/plain": [
       "254"
      ]
     },
     "execution_count": 12,
     "metadata": {},
     "output_type": "execute_result"
    }
   ],
   "source": [
    "len(feats)"
   ]
  },
  {
   "cell_type": "code",
   "execution_count": 14,
   "metadata": {},
   "outputs": [
    {
     "data": {
      "text/plain": [
       "258"
      ]
     },
     "execution_count": 14,
     "metadata": {},
     "output_type": "execute_result"
    }
   ],
   "source": [
    "len(abcd_vars.all_brain_features.features)"
   ]
  },
  {
   "cell_type": "code",
   "execution_count": 7,
   "metadata": {},
   "outputs": [],
   "source": [
    "import xgboost as xgb\n",
    "import pandas as pd\n",
    "\n",
    "train_big = pd.concat((train, valid))"
   ]
  },
  {
   "cell_type": "code",
   "execution_count": 8,
   "metadata": {},
   "outputs": [
    {
     "data": {
      "text/plain": [
       "<xgboost.core.DMatrix at 0x1bf8db7ea90>"
      ]
     },
     "execution_count": 8,
     "metadata": {},
     "output_type": "execute_result"
    }
   ],
   "source": [
    "dtrain = xgb.DMatrix(data=train_big[abcd_vars.all_brain_features.features], label=train_big['Bipolar Disorder'])\n",
    "dtrain"
   ]
  },
  {
   "cell_type": "code",
   "execution_count": 9,
   "metadata": {},
   "outputs": [
    {
     "name": "stdout",
     "output_type": "stream",
     "text": [
      "[13:44:57] WARNING: C:\\Users\\Administrator\\workspace\\xgboost-win64_release_1.2.0\\src\\learner.cc:516: \n",
      "Parameters: { blubb } might not be used.\n",
      "\n",
      "  This may not be accurate due to some parameters are only used in language bindings but\n",
      "  passed down to XGBoost core.  Or some parameters are not used but slip through this\n",
      "  verification. Please open an issue if you find above cases.\n",
      "\n",
      "\n"
     ]
    }
   ],
   "source": [
    "params = {\n",
    "    'objective': 'binary:logistic',\n",
    "    'booster': 'gbtree',\n",
    "    'subsample': 0.5,\n",
    "    'grow_policy': 'depthwise',\n",
    "    'verbosity': 1,\n",
    "    'disable_default_eval_metric': 1,\n",
    "    'blubb': 5757\n",
    "}\n",
    "\n",
    "model = xgb.train(params=params, dtrain=dtrain, num_boost_round=1000)"
   ]
  },
  {
   "cell_type": "code",
   "execution_count": 10,
   "metadata": {},
   "outputs": [],
   "source": [
    "dtest = xgb.DMatrix(data=test[abcd_vars.all_brain_features.features])\n",
    "preds = model.predict(dtest)"
   ]
  },
  {
   "cell_type": "code",
   "execution_count": 11,
   "metadata": {},
   "outputs": [
    {
     "data": {
      "text/plain": [
       "1657"
      ]
     },
     "execution_count": 11,
     "metadata": {},
     "output_type": "execute_result"
    }
   ],
   "source": [
    "len(preds)"
   ]
  },
  {
   "cell_type": "code",
   "execution_count": 12,
   "metadata": {},
   "outputs": [
    {
     "data": {
      "text/plain": [
       "0.513035667587634"
      ]
     },
     "execution_count": 12,
     "metadata": {},
     "output_type": "execute_result"
    }
   ],
   "source": [
    "from sklearn.metrics import roc_auc_score\n",
    "\n",
    "roc_auc_score(test['Bipolar Disorder'], preds)"
   ]
  },
  {
   "cell_type": "code",
   "execution_count": null,
   "metadata": {},
   "outputs": [],
   "source": [
    "xgb_pipe = XGBoostPipeline(x0 = initial_params, )"
   ]
  },
  {
   "cell_type": "code",
   "execution_count": 15,
   "metadata": {},
   "outputs": [],
   "source": [
    "from skopt.utils import use_named_args\n",
    "from skopt.space import Dimension, Integer, Real\n",
    "\n",
    "space = [\n",
    "    Integer(name='a', low=1, high=11),\n",
    "    Real(name='b', low=0.01, high=0.02),\n",
    "    Integer(name='c', low=1111, high=6666)\n",
    "]\n",
    "\n",
    "@use_named_args(space)\n",
    "def fun(a, b, c):\n",
    "    print(f\"a = {a}\")\n",
    "    print(f\"b = {b}\")\n",
    "    print(f\"c = {c}\")"
   ]
  },
  {
   "cell_type": "code",
   "execution_count": 10,
   "metadata": {},
   "outputs": [
    {
     "ename": "TypeError",
     "evalue": "wrapper() takes 1 positional argument but 3 were given",
     "output_type": "error",
     "traceback": [
      "\u001b[1;31m---------------------------------------------------------------------------\u001b[0m",
      "\u001b[1;31mTypeError\u001b[0m                                 Traceback (most recent call last)",
      "\u001b[1;32m<ipython-input-10-87f7e63f941b>\u001b[0m in \u001b[0;36m<module>\u001b[1;34m\u001b[0m\n\u001b[1;32m----> 1\u001b[1;33m \u001b[0mfun\u001b[0m\u001b[1;33m(\u001b[0m\u001b[1;34m'hi'\u001b[0m\u001b[1;33m,\u001b[0m \u001b[1;34m'joe'\u001b[0m\u001b[1;33m,\u001b[0m \u001b[1;36m6\u001b[0m\u001b[1;33m)\u001b[0m\u001b[1;33m\u001b[0m\u001b[1;33m\u001b[0m\u001b[0m\n\u001b[0m",
      "\u001b[1;31mTypeError\u001b[0m: wrapper() takes 1 positional argument but 3 were given"
     ]
    }
   ],
   "source": [
    "fun('hi', 'joe', 6)"
   ]
  },
  {
   "cell_type": "code",
   "execution_count": 17,
   "metadata": {},
   "outputs": [
    {
     "name": "stdout",
     "output_type": "stream",
     "text": [
      "a = 3\n",
      "b = 0.01564\n",
      "c = 339933\n"
     ]
    }
   ],
   "source": [
    "d = [3, 0.01564, 339933]\n",
    "fun(x=d)"
   ]
  },
  {
   "cell_type": "code",
   "execution_count": 23,
   "metadata": {},
   "outputs": [
    {
     "data": {
      "text/plain": [
       "True"
      ]
     },
     "execution_count": 23,
     "metadata": {},
     "output_type": "execute_result"
    }
   ],
   "source": [
    "dic = {'a': 3, 'b':5, 'c':111}\n",
    "'a' in dic.keys()"
   ]
  },
  {
   "cell_type": "code",
   "execution_count": 21,
   "metadata": {},
   "outputs": [],
   "source": [
    "dic2 = {'d': 90, 'e': 22222}\n",
    "#dic.update(dic2)"
   ]
  },
  {
   "cell_type": "code",
   "execution_count": 25,
   "metadata": {},
   "outputs": [
    {
     "data": {
      "text/plain": [
       "3"
      ]
     },
     "execution_count": 25,
     "metadata": {},
     "output_type": "execute_result"
    }
   ],
   "source": [
    "dic.pop('a')"
   ]
  },
  {
   "cell_type": "code",
   "execution_count": 27,
   "metadata": {},
   "outputs": [
    {
     "ename": "KeyError",
     "evalue": "'a'",
     "output_type": "error",
     "traceback": [
      "\u001b[1;31m---------------------------------------------------------------------------\u001b[0m",
      "\u001b[1;31mKeyError\u001b[0m                                  Traceback (most recent call last)",
      "\u001b[1;32m<ipython-input-27-a94fccf7f869>\u001b[0m in \u001b[0;36m<module>\u001b[1;34m\u001b[0m\n\u001b[1;32m----> 1\u001b[1;33m \u001b[0mdic\u001b[0m\u001b[1;33m.\u001b[0m\u001b[0mpop\u001b[0m\u001b[1;33m(\u001b[0m\u001b[1;34m'a'\u001b[0m\u001b[1;33m)\u001b[0m\u001b[1;33m\u001b[0m\u001b[1;33m\u001b[0m\u001b[0m\n\u001b[0m",
      "\u001b[1;31mKeyError\u001b[0m: 'a'"
     ]
    }
   ],
   "source": [
    "dic.pop('a')"
   ]
  },
  {
   "cell_type": "code",
   "execution_count": 62,
   "metadata": {},
   "outputs": [],
   "source": [
    "from src.models.xgboost_pipeline import DepthwiseXGBPipeline, ErrorFunctions\n",
    "import time"
   ]
  },
  {
   "cell_type": "code",
   "execution_count": 63,
   "metadata": {},
   "outputs": [],
   "source": [
    "log_loss = ErrorFunctions.log_loss()\n",
    "pipe = DepthwiseXGBPipeline(\n",
    "    y_col = 'Bipolar Disorder',\n",
    "    model_dir = main_path / 'models',\n",
    "    error_function = log_loss,\n",
    "    include_cols = abcd_vars.all_brain_features.features,\n",
    "    n_calls = 30\n",
    ")"
   ]
  },
  {
   "cell_type": "code",
   "execution_count": 66,
   "metadata": {},
   "outputs": [
    {
     "name": "stdout",
     "output_type": "stream",
     "text": [
      "Training took 13.82 minutes\n"
     ]
    }
   ],
   "source": [
    "tic = time.perf_counter()\n",
    "pipe.fit(data_train = train, data_valid = valid)\n",
    "toc = time.perf_counter()\n",
    "print(f\"Training took {(toc - tic)/60:0.2f} minutes\")"
   ]
  },
  {
   "cell_type": "code",
   "execution_count": 67,
   "metadata": {},
   "outputs": [
    {
     "data": {
      "text/plain": [
       "{'learning_rate': 0.006146431731654878,\n",
       " 'alpha': 8.850403281640631e-05,\n",
       " 'lambda': 0.22199705855060672,\n",
       " 'objective': 'binary:logistic',\n",
       " 'booster': 'gbtree',\n",
       " 'max_depth': 2,\n",
       " 'subsample': 0.5,\n",
       " 'grow_policy': 'depthwise',\n",
       " 'verbosity': 1,\n",
       " 'disable_default_eval_metric': 1}"
      ]
     },
     "execution_count": 67,
     "metadata": {},
     "output_type": "execute_result"
    }
   ],
   "source": [
    "pipe.hparams"
   ]
  },
  {
   "cell_type": "code",
   "execution_count": 71,
   "metadata": {},
   "outputs": [
    {
     "data": {
      "text/plain": [
       "0.5154915805391638"
      ]
     },
     "execution_count": 71,
     "metadata": {},
     "output_type": "execute_result"
    }
   ],
   "source": [
    "y_pred = pipe.predict(test)\n",
    "roc_auc_score(test['Bipolar Disorder'], y_pred)"
   ]
  },
  {
   "cell_type": "code",
   "execution_count": 20,
   "metadata": {},
   "outputs": [
    {
     "data": {
      "text/plain": [
       "['sri24precentrallgm',\n",
       " 'sri24precentralrgm',\n",
       " 'sri24frontalsuplgm',\n",
       " 'sri24frontalsuprgm',\n",
       " 'sri24frontalsuporblgm',\n",
       " 'sri24frontalsuporbrgm',\n",
       " 'sri24frontalmidlgm',\n",
       " 'sri24frontalmidrgm',\n",
       " 'sri24frontalmidorblgm',\n",
       " 'sri24frontalmidorbrgm',\n",
       " 'sri24frontalinfoperlgm',\n",
       " 'sri24frontalinfoperrgm',\n",
       " 'sri24frontalinftrilgm',\n",
       " 'sri24frontalinftrirgm',\n",
       " 'sri24frontalinforblgm',\n",
       " 'sri24frontalinforbrgm',\n",
       " 'sri24rolandicoperlgm',\n",
       " 'sri24rolandicoperrgm',\n",
       " 'sri24suppmotorarealgm',\n",
       " 'sri24suppmotorareargm',\n",
       " 'sri24olfactorylgm',\n",
       " 'sri24olfactoryrgm',\n",
       " 'sri24frontalsupmediallgm',\n",
       " 'sri24frontalsupmedialrgm',\n",
       " 'sri24frontalmedorblgm',\n",
       " 'sri24frontalmedorbrgm',\n",
       " 'sri24rectuslgm',\n",
       " 'sri24rectusrgm',\n",
       " 'sri24insulalgm',\n",
       " 'sri24insulargm',\n",
       " 'sri24cingulumantlgm',\n",
       " 'sri24cingulumantrgm',\n",
       " 'sri24cingulummidlgm',\n",
       " 'sri24cingulummidrgm',\n",
       " 'sri24cingulumpostlgm',\n",
       " 'sri24cingulumpostrgm',\n",
       " 'sri24hippocampuslgm',\n",
       " 'sri24hippocampusrgm',\n",
       " 'sri24parahippocampallgm',\n",
       " 'sri24parahippocampalrgm',\n",
       " 'sri24amygdalalgm',\n",
       " 'sri24amygdalargm',\n",
       " 'sri24calcarinelgm',\n",
       " 'sri24calcarinergm',\n",
       " 'sri24cuneuslgm',\n",
       " 'sri24cuneusrgm',\n",
       " 'sri24linguallgm',\n",
       " 'sri24lingualrgm',\n",
       " 'sri24occipitalsuplgm',\n",
       " 'sri24occipitalsuprgm',\n",
       " 'sri24occipitalmidlgm',\n",
       " 'sri24occipitalmidrgm',\n",
       " 'sri24occipitalinflgm',\n",
       " 'sri24occipitalinfrgm',\n",
       " 'sri24fusiformlgm',\n",
       " 'sri24fusiformrgm',\n",
       " 'sri24postcentrallgm',\n",
       " 'sri24postcentralrgm',\n",
       " 'sri24parietalsuplgm',\n",
       " 'sri24parietalsuprgm',\n",
       " 'sri24parietalinflgm',\n",
       " 'sri24parietalinfrgm',\n",
       " 'sri24supramarginallgm',\n",
       " 'sri24supramarginalrgm',\n",
       " 'sri24angularlgm',\n",
       " 'sri24angularrgm',\n",
       " 'sri24precuneuslgm',\n",
       " 'sri24precuneusrgm',\n",
       " 'sri24paracentrallobulelgm',\n",
       " 'sri24paracentrallobulergm',\n",
       " 'sri24caudatelgm',\n",
       " 'sri24caudatergm',\n",
       " 'sri24putamenlgm',\n",
       " 'sri24putamenrgm',\n",
       " 'sri24pallidumlgm',\n",
       " 'sri24pallidumrgm',\n",
       " 'sri24thalamuslgm',\n",
       " 'sri24thalamusrgm',\n",
       " 'sri24heschllgm',\n",
       " 'sri24heschlrgm',\n",
       " 'sri24temporalsuplgm',\n",
       " 'sri24temporalsuprgm',\n",
       " 'sri24temporalpolesuplgm',\n",
       " 'sri24temporalpolesuprgm',\n",
       " 'sri24temporalmidlgm',\n",
       " 'sri24temporalmidrgm',\n",
       " 'sri24temporalpolemidlgm',\n",
       " 'sri24temporalpolemidrgm',\n",
       " 'sri24temporalinflgm',\n",
       " 'sri24temporalinfrgm',\n",
       " 'sri24cerebelumcrus1lvolume',\n",
       " 'sri24cerebelumcrus1rvolume',\n",
       " 'sri24cerebelumcrus2lvolume',\n",
       " 'sri24cerebelumcrus2rvolume',\n",
       " 'sri24cerebelum3lvolume',\n",
       " 'sri24cerebelum3rvolume',\n",
       " 'sri24cerebelum45lvolume',\n",
       " 'sri24cerebelum45rvolume',\n",
       " 'sri24cerebelum6lvolume',\n",
       " 'sri24cerebelum6rvolume',\n",
       " 'sri24cerebelum7blvolume',\n",
       " 'sri24cerebelum7brvolume',\n",
       " 'sri24cerebelum8lvolume',\n",
       " 'sri24cerebelum8rvolume',\n",
       " 'sri24cerebelum9lvolume',\n",
       " 'sri24cerebelum9rvolume',\n",
       " 'sri24cerebelum10lvolume',\n",
       " 'sri24cerebelum10rvolume',\n",
       " 'sri24vermis1gm',\n",
       " 'sri24vermis2gm',\n",
       " 'sri24vermis3gm',\n",
       " 'sri24cblmhemiwhtlwm',\n",
       " 'sri24cblmhemiwhtrwm',\n",
       " 'sri24ponswm',\n",
       " 'sri24corpuscallosumwm',\n",
       " 'sri24wm400wm400lwm',\n",
       " 'sri24wm400wm400rwm',\n",
       " 'sri24vtlslateralvtllcsf',\n",
       " 'sri24vtlslateralvtlrcsf',\n",
       " 'sri24vtlsthirdvtllcsf',\n",
       " 'sri24vtlsthirdvtlrcsf',\n",
       " 'sri24suptentsupratentoriumv',\n",
       " 'FS_lh_bankssts_thickness',\n",
       " 'FS_lh_caudalanteriorcingulate_thickness',\n",
       " 'FS_lh_caudalmiddlefrontal_thickness',\n",
       " 'FS_lh_cuneus_thickness',\n",
       " 'FS_lh_entorhinal_thickness',\n",
       " 'FS_lh_fusiform_thickness',\n",
       " 'FS_lh_inferiorparietal_thickness',\n",
       " 'FS_lh_inferiortemporal_thickness',\n",
       " 'FS_lh_isthmuscingulate_thickness',\n",
       " 'FS_lh_lateraloccipital_thickness',\n",
       " 'FS_lh_lateralorbitofrontal_thickness',\n",
       " 'FS_lh_lingual_thickness',\n",
       " 'FS_lh_medialorbitofrontal_thickness',\n",
       " 'FS_lh_middletemporal_thickness',\n",
       " 'FS_lh_parahippocampal_thickness',\n",
       " 'FS_lh_paracentral_thickness',\n",
       " 'FS_lh_parsopercularis_thickness',\n",
       " 'FS_lh_parsorbitalis_thickness',\n",
       " 'FS_lh_parstriangularis_thickness',\n",
       " 'FS_lh_pericalcarine_thickness',\n",
       " 'FS_lh_postcentral_thickness',\n",
       " 'FS_lh_posteriorcingulate_thickness',\n",
       " 'FS_lh_precentral_thickness',\n",
       " 'FS_lh_precuneus_thickness',\n",
       " 'FS_lh_rostralanteriorcingulate_thickness',\n",
       " 'FS_lh_rostralmiddlefrontal_thickness',\n",
       " 'FS_lh_superiorfrontal_thickness',\n",
       " 'FS_lh_superiorparietal_thickness',\n",
       " 'FS_lh_superiortemporal_thickness',\n",
       " 'FS_lh_supramarginal_thickness',\n",
       " 'FS_lh_frontalpole_thickness',\n",
       " 'FS_lh_temporalpole_thickness',\n",
       " 'FS_lh_transversetemporal_thickness',\n",
       " 'FS_lh_insula_thickness',\n",
       " 'FS_lh_MeanThickness_thickness',\n",
       " 'FS_rh_bankssts_thickness',\n",
       " 'FS_rh_caudalanteriorcingulate_thickness',\n",
       " 'FS_rh_caudalmiddlefrontal_thickness',\n",
       " 'FS_rh_cuneus_thickness',\n",
       " 'FS_rh_entorhinal_thickness',\n",
       " 'FS_rh_fusiform_thickness',\n",
       " 'FS_rh_inferiorparietal_thickness',\n",
       " 'FS_rh_inferiortemporal_thickness',\n",
       " 'FS_rh_isthmuscingulate_thickness',\n",
       " 'FS_rh_lateraloccipital_thickness',\n",
       " 'FS_rh_lateralorbitofrontal_thickness',\n",
       " 'FS_rh_lingual_thickness',\n",
       " 'FS_rh_medialorbitofrontal_thickness',\n",
       " 'FS_rh_middletemporal_thickness',\n",
       " 'FS_rh_parahippocampal_thickness',\n",
       " 'FS_rh_paracentral_thickness',\n",
       " 'FS_rh_parsopercularis_thickness',\n",
       " 'FS_rh_parsorbitalis_thickness',\n",
       " 'FS_rh_parstriangularis_thickness',\n",
       " 'FS_rh_pericalcarine_thickness',\n",
       " 'FS_rh_postcentral_thickness',\n",
       " 'FS_rh_posteriorcingulate_thickness',\n",
       " 'FS_rh_precentral_thickness',\n",
       " 'FS_rh_precuneus_thickness',\n",
       " 'FS_rh_rostralanteriorcingulate_thickness',\n",
       " 'FS_rh_rostralmiddlefrontal_thickness',\n",
       " 'FS_rh_superiorfrontal_thickness',\n",
       " 'FS_rh_superiorparietal_thickness',\n",
       " 'FS_rh_superiortemporal_thickness',\n",
       " 'FS_rh_supramarginal_thickness',\n",
       " 'FS_rh_frontalpole_thickness',\n",
       " 'FS_rh_temporalpole_thickness',\n",
       " 'FS_rh_transversetemporal_thickness',\n",
       " 'FS_rh_insula_thickness',\n",
       " 'FS_rh_MeanThickness_thickness',\n",
       " 'FS_Left-Lateral-Ventricle',\n",
       " 'FS_Left-Inf-Lat-Vent',\n",
       " 'FS_Left-Cerebellum-White-Matter',\n",
       " 'FS_Left-Cerebellum-Cortex',\n",
       " 'FS_Left-Thalamus-Proper',\n",
       " 'FS_Left-Caudate',\n",
       " 'FS_Left-Putamen',\n",
       " 'FS_Left-Pallidum',\n",
       " 'FS_3rd-Ventricle',\n",
       " 'FS_4th-Ventricle',\n",
       " 'FS_Brain-Stem',\n",
       " 'FS_Left-Hippocampus',\n",
       " 'FS_Left-Amygdala',\n",
       " 'FS_CSF',\n",
       " 'FS_Left-Accumbens-area',\n",
       " 'FS_Left-VentralDC',\n",
       " 'FS_Left-vessel',\n",
       " 'FS_Left-choroid-plexus',\n",
       " 'FS_Right-Lateral-Ventricle',\n",
       " 'FS_Right-Inf-Lat-Vent',\n",
       " 'FS_Right-Cerebellum-White-Matter',\n",
       " 'FS_Right-Cerebellum-Cortex',\n",
       " 'FS_Right-Thalamus-Proper',\n",
       " 'FS_Right-Caudate',\n",
       " 'FS_Right-Putamen',\n",
       " 'FS_Right-Pallidum',\n",
       " 'FS_Right-Hippocampus',\n",
       " 'FS_Right-Amygdala',\n",
       " 'FS_Right-Accumbens-area',\n",
       " 'FS_Right-VentralDC',\n",
       " 'FS_Right-vessel',\n",
       " 'FS_Right-choroid-plexus',\n",
       " 'FS_5th-Ventricle',\n",
       " 'FS_WM-hypointensities',\n",
       " 'FS_Left-WM-hypointensities',\n",
       " 'FS_Right-WM-hypointensities',\n",
       " 'FS_non-WM-hypointensities',\n",
       " 'FS_Left-non-WM-hypointensities',\n",
       " 'FS_Right-non-WM-hypointensities',\n",
       " 'FS_Optic-Chiasm',\n",
       " 'FS_CC_Posterior',\n",
       " 'FS_CC_Mid_Posterior',\n",
       " 'FS_CC_Central',\n",
       " 'FS_CC_Mid_Anterior',\n",
       " 'FS_CC_Anterior',\n",
       " 'FS_BrainSegVol',\n",
       " 'FS_BrainSegVolNotVent',\n",
       " 'FS_BrainSegVolNotVentSurf',\n",
       " 'FS_lhCortexVol',\n",
       " 'FS_rhCortexVol',\n",
       " 'FS_CortexVol',\n",
       " 'FS_lhCorticalWhiteMatterVol',\n",
       " 'FS_rhCorticalWhiteMatterVol',\n",
       " 'FS_CorticalWhiteMatterVol',\n",
       " 'FS_SubCortGrayVol',\n",
       " 'FS_TotalGrayVol',\n",
       " 'FS_SupraTentorialVol',\n",
       " 'FS_SupraTentorialVolNotVent',\n",
       " 'FS_SupraTentorialVolNotVentVox',\n",
       " 'FS_MaskVol',\n",
       " 'FS_BrainSegVol-to-eTIV',\n",
       " 'FS_MaskVol-to-eTIV',\n",
       " 'FS_lhSurfaceHoles',\n",
       " 'FS_rhSurfaceHoles',\n",
       " 'FS_SurfaceHoles',\n",
       " 'FS_EstimatedTotalIntraCranialVol']"
      ]
     },
     "execution_count": 20,
     "metadata": {},
     "output_type": "execute_result"
    }
   ],
   "source": [
    "abcd_vars.all_brain_features.features"
   ]
  }
 ],
 "metadata": {
  "kernelspec": {
   "display_name": "Python 3",
   "language": "python",
   "name": "python3"
  },
  "language_info": {
   "codemirror_mode": {
    "name": "ipython",
    "version": 3
   },
   "file_extension": ".py",
   "mimetype": "text/x-python",
   "name": "python",
   "nbconvert_exporter": "python",
   "pygments_lexer": "ipython3",
   "version": "3.8.5"
  }
 },
 "nbformat": 4,
 "nbformat_minor": 4
}
